{
 "cells": [
  {
   "cell_type": "code",
   "execution_count": 1,
   "id": "5be6a51b",
   "metadata": {},
   "outputs": [],
   "source": [
    "import pandas as pd\n",
    "import numpy as np\n",
    "from sklearn.model_selection import train_test_split, KFold, StratifiedKFold, cross_val_score\n",
    "from sklearn.metrics import accuracy_score, confusion_matrix, classification_report\n",
    "from sklearn.preprocessing import MinMaxScaler, StandardScaler\n",
    "from sklearn.linear_model import LogisticRegression\n",
    "from sklearn.svm import SVC\n",
    "from sklearn.ensemble import RandomForestClassifier\n",
    "from sklearn.model_selection import RandomizedSearchCV,GridSearchCV\n",
    "from xgboost import XGBClassifier\n",
    "import xgboost\n",
    "from collections import Counter\n",
    "from sklearn.pipeline import Pipeline\n",
    "from currency_converter import CurrencyConverter\n",
    "import seaborn as sns\n",
    "import matplotlib.pyplot as plt\n",
    "from keras import Sequential\n",
    "from keras.layers import Dense\n",
    "import warnings\n",
    "import tensorflow as tf\n",
    "import pickle\n",
    "import joblib\n",
    "import requests\n",
    "import random\n",
    "from imblearn.over_sampling import SMOTE\n",
    "warnings.filterwarnings('ignore')"
   ]
  },
  {
   "cell_type": "code",
   "execution_count": 2,
   "id": "8c39740e",
   "metadata": {},
   "outputs": [
    {
     "data": {
      "text/plain": [
       "(210, 10)"
      ]
     },
     "execution_count": 2,
     "metadata": {},
     "output_type": "execute_result"
    }
   ],
   "source": [
    "df_tn = pd.read_csv('data/financial_data_tunisia.csv', index_col=0)\n",
    "df_tn = df_tn.drop_duplicates(subset=df_tn.columns)\n",
    "df_tn.shape"
   ]
  },
  {
   "cell_type": "code",
   "execution_count": 3,
   "id": "17613693",
   "metadata": {},
   "outputs": [
    {
     "data": {
      "text/html": [
       "<div>\n",
       "<style scoped>\n",
       "    .dataframe tbody tr th:only-of-type {\n",
       "        vertical-align: middle;\n",
       "    }\n",
       "\n",
       "    .dataframe tbody tr th {\n",
       "        vertical-align: top;\n",
       "    }\n",
       "\n",
       "    .dataframe thead th {\n",
       "        text-align: right;\n",
       "    }\n",
       "</style>\n",
       "<table border=\"1\" class=\"dataframe\">\n",
       "  <thead>\n",
       "    <tr style=\"text-align: right;\">\n",
       "      <th></th>\n",
       "      <th>sct</th>\n",
       "      <th>year</th>\n",
       "      <th>capitaux_propres</th>\n",
       "      <th>passifs_non_courant</th>\n",
       "      <th>total_bilan</th>\n",
       "      <th>stock</th>\n",
       "      <th>creance_client</th>\n",
       "      <th>actif_immobilier</th>\n",
       "      <th>resultat_net</th>\n",
       "      <th>chiffre_d_affaires</th>\n",
       "    </tr>\n",
       "  </thead>\n",
       "  <tbody>\n",
       "    <tr>\n",
       "      <th>0</th>\n",
       "      <td>AB</td>\n",
       "      <td>2017</td>\n",
       "      <td>8.750900e+08</td>\n",
       "      <td>7.778707e+09</td>\n",
       "      <td>8.662590e+09</td>\n",
       "      <td>0.0</td>\n",
       "      <td>6.075063e+09</td>\n",
       "      <td>165955000.0</td>\n",
       "      <td>112493000.0</td>\n",
       "      <td>1.633735e+08</td>\n",
       "    </tr>\n",
       "    <tr>\n",
       "      <th>1</th>\n",
       "      <td>AB</td>\n",
       "      <td>2018</td>\n",
       "      <td>9.786010e+08</td>\n",
       "      <td>7.902909e+09</td>\n",
       "      <td>8.885599e+09</td>\n",
       "      <td>0.0</td>\n",
       "      <td>5.930429e+09</td>\n",
       "      <td>169076000.0</td>\n",
       "      <td>125280000.0</td>\n",
       "      <td>1.253033e+08</td>\n",
       "    </tr>\n",
       "    <tr>\n",
       "      <th>2</th>\n",
       "      <td>AB</td>\n",
       "      <td>2019</td>\n",
       "      <td>1.081664e+09</td>\n",
       "      <td>7.925654e+09</td>\n",
       "      <td>9.011329e+09</td>\n",
       "      <td>0.0</td>\n",
       "      <td>5.728896e+09</td>\n",
       "      <td>190413000.0</td>\n",
       "      <td>146556000.0</td>\n",
       "      <td>1.513254e+08</td>\n",
       "    </tr>\n",
       "    <tr>\n",
       "      <th>3</th>\n",
       "      <td>ADWYA</td>\n",
       "      <td>2017</td>\n",
       "      <td>3.903262e+07</td>\n",
       "      <td>7.252438e+06</td>\n",
       "      <td>9.057190e+07</td>\n",
       "      <td>27270466.0</td>\n",
       "      <td>1.828586e+07</td>\n",
       "      <td>34527355.0</td>\n",
       "      <td>4914454.0</td>\n",
       "      <td>2.002100e+07</td>\n",
       "    </tr>\n",
       "    <tr>\n",
       "      <th>4</th>\n",
       "      <td>ADWYA</td>\n",
       "      <td>2018</td>\n",
       "      <td>3.900292e+07</td>\n",
       "      <td>1.375171e+07</td>\n",
       "      <td>1.121328e+08</td>\n",
       "      <td>35229673.0</td>\n",
       "      <td>2.185274e+07</td>\n",
       "      <td>38819278.0</td>\n",
       "      <td>3122741.0</td>\n",
       "      <td>5.141764e+06</td>\n",
       "    </tr>\n",
       "  </tbody>\n",
       "</table>\n",
       "</div>"
      ],
      "text/plain": [
       "     sct  year  capitaux_propres  passifs_non_courant   total_bilan  \\\n",
       "0     AB  2017      8.750900e+08         7.778707e+09  8.662590e+09   \n",
       "1     AB  2018      9.786010e+08         7.902909e+09  8.885599e+09   \n",
       "2     AB  2019      1.081664e+09         7.925654e+09  9.011329e+09   \n",
       "3  ADWYA  2017      3.903262e+07         7.252438e+06  9.057190e+07   \n",
       "4  ADWYA  2018      3.900292e+07         1.375171e+07  1.121328e+08   \n",
       "\n",
       "        stock  creance_client  actif_immobilier  resultat_net  \\\n",
       "0         0.0    6.075063e+09       165955000.0   112493000.0   \n",
       "1         0.0    5.930429e+09       169076000.0   125280000.0   \n",
       "2         0.0    5.728896e+09       190413000.0   146556000.0   \n",
       "3  27270466.0    1.828586e+07        34527355.0     4914454.0   \n",
       "4  35229673.0    2.185274e+07        38819278.0     3122741.0   \n",
       "\n",
       "   chiffre_d_affaires  \n",
       "0        1.633735e+08  \n",
       "1        1.253033e+08  \n",
       "2        1.513254e+08  \n",
       "3        2.002100e+07  \n",
       "4        5.141764e+06  "
      ]
     },
     "execution_count": 3,
     "metadata": {},
     "output_type": "execute_result"
    }
   ],
   "source": [
    "df_tn.head()"
   ]
  },
  {
   "cell_type": "code",
   "execution_count": 4,
   "id": "eae5ae2c",
   "metadata": {},
   "outputs": [
    {
     "data": {
      "text/plain": [
       "(672, 10)"
      ]
     },
     "execution_count": 4,
     "metadata": {},
     "output_type": "execute_result"
    }
   ],
   "source": [
    "df = pd.read_csv('data/boursorama.csv', delimiter=';', index_col=False)\n",
    "df = df.drop_duplicates(subset=df.columns)\n",
    "df = df.replace({0.0 : np.nan})\n",
    "df.shape"
   ]
  },
  {
   "cell_type": "code",
   "execution_count": 5,
   "id": "fd0f1011",
   "metadata": {
    "scrolled": true
   },
   "outputs": [
    {
     "data": {
      "text/html": [
       "<div>\n",
       "<style scoped>\n",
       "    .dataframe tbody tr th:only-of-type {\n",
       "        vertical-align: middle;\n",
       "    }\n",
       "\n",
       "    .dataframe tbody tr th {\n",
       "        vertical-align: top;\n",
       "    }\n",
       "\n",
       "    .dataframe thead th {\n",
       "        text-align: right;\n",
       "    }\n",
       "</style>\n",
       "<table border=\"1\" class=\"dataframe\">\n",
       "  <thead>\n",
       "    <tr style=\"text-align: right;\">\n",
       "      <th></th>\n",
       "      <th>sct</th>\n",
       "      <th>year</th>\n",
       "      <th>capitaux_propres</th>\n",
       "      <th>passifs_non_courant</th>\n",
       "      <th>total_bilan</th>\n",
       "      <th>stock</th>\n",
       "      <th>creance_client</th>\n",
       "      <th>actif_immobilier</th>\n",
       "      <th>resultat_net</th>\n",
       "      <th>chiffre_d_affaires</th>\n",
       "    </tr>\n",
       "  </thead>\n",
       "  <tbody>\n",
       "    <tr>\n",
       "      <th>0</th>\n",
       "      <td>AB SCIENCE</td>\n",
       "      <td>12.17</td>\n",
       "      <td>10735.0</td>\n",
       "      <td>20381.0</td>\n",
       "      <td>50600.0</td>\n",
       "      <td>159.0</td>\n",
       "      <td>449.0</td>\n",
       "      <td>1910.0</td>\n",
       "      <td>-27122.0</td>\n",
       "      <td>1739.0</td>\n",
       "    </tr>\n",
       "    <tr>\n",
       "      <th>1</th>\n",
       "      <td>AB SCIENCE</td>\n",
       "      <td>12.18</td>\n",
       "      <td>-14962.0</td>\n",
       "      <td>17535.0</td>\n",
       "      <td>22491.0</td>\n",
       "      <td>153.0</td>\n",
       "      <td>236.0</td>\n",
       "      <td>1725.0</td>\n",
       "      <td>-26061.0</td>\n",
       "      <td>1701.0</td>\n",
       "    </tr>\n",
       "    <tr>\n",
       "      <th>2</th>\n",
       "      <td>AB SCIENCE</td>\n",
       "      <td>12.19</td>\n",
       "      <td>-26829.0</td>\n",
       "      <td>24226.0</td>\n",
       "      <td>17740.0</td>\n",
       "      <td>230.0</td>\n",
       "      <td>197.0</td>\n",
       "      <td>1610.0</td>\n",
       "      <td>-21747.0</td>\n",
       "      <td>1571.0</td>\n",
       "    </tr>\n",
       "    <tr>\n",
       "      <th>3</th>\n",
       "      <td>ABC ARBITRAGE</td>\n",
       "      <td>12.17</td>\n",
       "      <td>148867.0</td>\n",
       "      <td>NaN</td>\n",
       "      <td>153935.0</td>\n",
       "      <td>159.0</td>\n",
       "      <td>7217.0</td>\n",
       "      <td>1386.0</td>\n",
       "      <td>18309.0</td>\n",
       "      <td>NaN</td>\n",
       "    </tr>\n",
       "    <tr>\n",
       "      <th>4</th>\n",
       "      <td>ABC ARBITRAGE</td>\n",
       "      <td>12.18</td>\n",
       "      <td>146291.0</td>\n",
       "      <td>NaN</td>\n",
       "      <td>151983.0</td>\n",
       "      <td>153.0</td>\n",
       "      <td>8169.0</td>\n",
       "      <td>1161.0</td>\n",
       "      <td>19679.0</td>\n",
       "      <td>NaN</td>\n",
       "    </tr>\n",
       "  </tbody>\n",
       "</table>\n",
       "</div>"
      ],
      "text/plain": [
       "             sct   year  capitaux_propres  passifs_non_courant  total_bilan  \\\n",
       "0     AB SCIENCE  12.17           10735.0              20381.0      50600.0   \n",
       "1     AB SCIENCE  12.18          -14962.0              17535.0      22491.0   \n",
       "2     AB SCIENCE  12.19          -26829.0              24226.0      17740.0   \n",
       "3  ABC ARBITRAGE  12.17          148867.0                  NaN     153935.0   \n",
       "4  ABC ARBITRAGE  12.18          146291.0                  NaN     151983.0   \n",
       "\n",
       "   stock  creance_client  actif_immobilier  resultat_net  chiffre_d_affaires  \n",
       "0  159.0           449.0            1910.0      -27122.0              1739.0  \n",
       "1  153.0           236.0            1725.0      -26061.0              1701.0  \n",
       "2  230.0           197.0            1610.0      -21747.0              1571.0  \n",
       "3  159.0          7217.0            1386.0       18309.0                 NaN  \n",
       "4  153.0          8169.0            1161.0       19679.0                 NaN  "
      ]
     },
     "execution_count": 5,
     "metadata": {},
     "output_type": "execute_result"
    }
   ],
   "source": [
    "df.head()"
   ]
  },
  {
   "cell_type": "code",
   "execution_count": 6,
   "id": "31621dd5",
   "metadata": {},
   "outputs": [],
   "source": [
    "columns_with_nan = []\n",
    "for column in df.columns:\n",
    "    if df[column].isnull().values.any():\n",
    "        columns_with_nan.append(column)\n",
    "for column in columns_with_nan:\n",
    "    df[column] = df.groupby('sct')[column].transform(lambda x: x.fillna(x.mean()))"
   ]
  },
  {
   "cell_type": "code",
   "execution_count": 7,
   "id": "af19b597",
   "metadata": {},
   "outputs": [
    {
     "data": {
      "text/plain": [
       "87"
      ]
     },
     "execution_count": 7,
     "metadata": {},
     "output_type": "execute_result"
    }
   ],
   "source": [
    "df.isnull().sum().sum()"
   ]
  },
  {
   "cell_type": "code",
   "execution_count": 8,
   "id": "0f46ca10",
   "metadata": {},
   "outputs": [
    {
     "data": {
      "text/plain": [
       "(594, 10)"
      ]
     },
     "execution_count": 8,
     "metadata": {},
     "output_type": "execute_result"
    }
   ],
   "source": [
    "df.dropna(inplace=True)\n",
    "df.shape"
   ]
  },
  {
   "cell_type": "code",
   "execution_count": 9,
   "id": "bb4769c3",
   "metadata": {},
   "outputs": [],
   "source": [
    "chiffres_d_aff = []\n",
    "for item in df['chiffre_d_affaires']:\n",
    "    chiffres_d_aff.append(item)"
   ]
  },
  {
   "cell_type": "code",
   "execution_count": 10,
   "id": "5c7eafb5",
   "metadata": {},
   "outputs": [],
   "source": [
    "def get_exchange_rate(base_currency, target_currency):\n",
    "\n",
    "    if base_currency == target_currency:\n",
    "        return 1\n",
    "\n",
    "    api_uri = \"http://data.fixer.io/api/latest?access_key=33b7f5ab7ef7e811a3bfa0e2d5e8d928&format=1?base={}&symbols={}\".format(base_currency, target_currency)\n",
    "    api_response = requests.get(api_uri)\n",
    "\n",
    "    if api_response.status_code == 200:\n",
    "        return api_response.json()[\"rates\"][target_currency]"
   ]
  },
  {
   "cell_type": "markdown",
   "id": "ba5ce690",
   "metadata": {},
   "source": [
    "### Converting EUR data to TND"
   ]
  },
  {
   "cell_type": "code",
   "execution_count": 11,
   "id": "60e4b8ed",
   "metadata": {},
   "outputs": [],
   "source": [
    "cols = [c for c in df.columns if c != 'sct' and c != 'year']"
   ]
  },
  {
   "cell_type": "code",
   "execution_count": 12,
   "id": "d9181590",
   "metadata": {},
   "outputs": [
    {
     "data": {
      "text/plain": [
       "['capitaux_propres',\n",
       " 'passifs_non_courant',\n",
       " 'total_bilan',\n",
       " 'stock',\n",
       " 'creance_client',\n",
       " 'actif_immobilier',\n",
       " 'resultat_net',\n",
       " 'chiffre_d_affaires']"
      ]
     },
     "execution_count": 12,
     "metadata": {},
     "output_type": "execute_result"
    }
   ],
   "source": [
    "cols"
   ]
  },
  {
   "cell_type": "code",
   "execution_count": 13,
   "id": "09b594f3",
   "metadata": {},
   "outputs": [
    {
     "name": "stdout",
     "output_type": "stream",
     "text": [
      "capitaux_propres\n",
      "passifs_non_courant\n",
      "total_bilan\n",
      "stock\n",
      "creance_client\n",
      "actif_immobilier\n",
      "resultat_net\n",
      "chiffre_d_affaires\n"
     ]
    }
   ],
   "source": [
    "for col in df[cols]:\n",
    "    print(col)"
   ]
  },
  {
   "cell_type": "code",
   "execution_count": 14,
   "id": "c207520f",
   "metadata": {},
   "outputs": [],
   "source": [
    "for col in df[cols]:\n",
    "    df[col] =df[col] * 3.310807"
   ]
  },
  {
   "cell_type": "code",
   "execution_count": 15,
   "id": "8d06fc67",
   "metadata": {},
   "outputs": [
    {
     "data": {
      "text/html": [
       "<div>\n",
       "<style scoped>\n",
       "    .dataframe tbody tr th:only-of-type {\n",
       "        vertical-align: middle;\n",
       "    }\n",
       "\n",
       "    .dataframe tbody tr th {\n",
       "        vertical-align: top;\n",
       "    }\n",
       "\n",
       "    .dataframe thead th {\n",
       "        text-align: right;\n",
       "    }\n",
       "</style>\n",
       "<table border=\"1\" class=\"dataframe\">\n",
       "  <thead>\n",
       "    <tr style=\"text-align: right;\">\n",
       "      <th></th>\n",
       "      <th>sct</th>\n",
       "      <th>year</th>\n",
       "      <th>capitaux_propres</th>\n",
       "      <th>passifs_non_courant</th>\n",
       "      <th>total_bilan</th>\n",
       "      <th>stock</th>\n",
       "      <th>creance_client</th>\n",
       "      <th>actif_immobilier</th>\n",
       "      <th>resultat_net</th>\n",
       "      <th>chiffre_d_affaires</th>\n",
       "    </tr>\n",
       "  </thead>\n",
       "  <tbody>\n",
       "    <tr>\n",
       "      <th>0</th>\n",
       "      <td>AB SCIENCE</td>\n",
       "      <td>12.17</td>\n",
       "      <td>3.554151e+04</td>\n",
       "      <td>6.747756e+04</td>\n",
       "      <td>1.675268e+05</td>\n",
       "      <td>526.418313</td>\n",
       "      <td>1.486552e+03</td>\n",
       "      <td>6.323641e+03</td>\n",
       "      <td>-8.979571e+04</td>\n",
       "      <td>5.757493e+03</td>\n",
       "    </tr>\n",
       "    <tr>\n",
       "      <th>1</th>\n",
       "      <td>AB SCIENCE</td>\n",
       "      <td>12.18</td>\n",
       "      <td>-4.953629e+04</td>\n",
       "      <td>5.805500e+04</td>\n",
       "      <td>7.446336e+04</td>\n",
       "      <td>506.553471</td>\n",
       "      <td>7.813505e+02</td>\n",
       "      <td>5.711142e+03</td>\n",
       "      <td>-8.628294e+04</td>\n",
       "      <td>5.631683e+03</td>\n",
       "    </tr>\n",
       "    <tr>\n",
       "      <th>2</th>\n",
       "      <td>AB SCIENCE</td>\n",
       "      <td>12.19</td>\n",
       "      <td>-8.882564e+04</td>\n",
       "      <td>8.020761e+04</td>\n",
       "      <td>5.873372e+04</td>\n",
       "      <td>761.485610</td>\n",
       "      <td>6.522290e+02</td>\n",
       "      <td>5.330399e+03</td>\n",
       "      <td>-7.200012e+04</td>\n",
       "      <td>5.201278e+03</td>\n",
       "    </tr>\n",
       "    <tr>\n",
       "      <th>6</th>\n",
       "      <td>ACCOR</td>\n",
       "      <td>12.17</td>\n",
       "      <td>1.928876e+07</td>\n",
       "      <td>9.164314e+06</td>\n",
       "      <td>3.998131e+07</td>\n",
       "      <td>26486.456000</td>\n",
       "      <td>1.334255e+06</td>\n",
       "      <td>9.813232e+06</td>\n",
       "      <td>1.592498e+06</td>\n",
       "      <td>6.413033e+06</td>\n",
       "    </tr>\n",
       "    <tr>\n",
       "      <th>7</th>\n",
       "      <td>ACCOR</td>\n",
       "      <td>12.18</td>\n",
       "      <td>2.133153e+07</td>\n",
       "      <td>9.137827e+06</td>\n",
       "      <td>4.295772e+07</td>\n",
       "      <td>49662.105000</td>\n",
       "      <td>2.042768e+06</td>\n",
       "      <td>1.402458e+07</td>\n",
       "      <td>7.561883e+06</td>\n",
       "      <td>1.086607e+07</td>\n",
       "    </tr>\n",
       "  </tbody>\n",
       "</table>\n",
       "</div>"
      ],
      "text/plain": [
       "          sct   year  capitaux_propres  passifs_non_courant   total_bilan  \\\n",
       "0  AB SCIENCE  12.17      3.554151e+04         6.747756e+04  1.675268e+05   \n",
       "1  AB SCIENCE  12.18     -4.953629e+04         5.805500e+04  7.446336e+04   \n",
       "2  AB SCIENCE  12.19     -8.882564e+04         8.020761e+04  5.873372e+04   \n",
       "6       ACCOR  12.17      1.928876e+07         9.164314e+06  3.998131e+07   \n",
       "7       ACCOR  12.18      2.133153e+07         9.137827e+06  4.295772e+07   \n",
       "\n",
       "          stock  creance_client  actif_immobilier  resultat_net  \\\n",
       "0    526.418313    1.486552e+03      6.323641e+03 -8.979571e+04   \n",
       "1    506.553471    7.813505e+02      5.711142e+03 -8.628294e+04   \n",
       "2    761.485610    6.522290e+02      5.330399e+03 -7.200012e+04   \n",
       "6  26486.456000    1.334255e+06      9.813232e+06  1.592498e+06   \n",
       "7  49662.105000    2.042768e+06      1.402458e+07  7.561883e+06   \n",
       "\n",
       "   chiffre_d_affaires  \n",
       "0        5.757493e+03  \n",
       "1        5.631683e+03  \n",
       "2        5.201278e+03  \n",
       "6        6.413033e+06  \n",
       "7        1.086607e+07  "
      ]
     },
     "execution_count": 15,
     "metadata": {},
     "output_type": "execute_result"
    }
   ],
   "source": [
    "df.head()"
   ]
  },
  {
   "cell_type": "markdown",
   "id": "6c7b3c85",
   "metadata": {},
   "source": [
    "## Merging dataframes"
   ]
  },
  {
   "cell_type": "code",
   "execution_count": 16,
   "id": "352b286e",
   "metadata": {},
   "outputs": [],
   "source": [
    "frames = [df, df_tn]\n",
    "df_final = pd.concat(frames, ignore_index=True)"
   ]
  },
  {
   "cell_type": "code",
   "execution_count": 17,
   "id": "0f5521ba",
   "metadata": {},
   "outputs": [
    {
     "data": {
      "text/html": [
       "<div>\n",
       "<style scoped>\n",
       "    .dataframe tbody tr th:only-of-type {\n",
       "        vertical-align: middle;\n",
       "    }\n",
       "\n",
       "    .dataframe tbody tr th {\n",
       "        vertical-align: top;\n",
       "    }\n",
       "\n",
       "    .dataframe thead th {\n",
       "        text-align: right;\n",
       "    }\n",
       "</style>\n",
       "<table border=\"1\" class=\"dataframe\">\n",
       "  <thead>\n",
       "    <tr style=\"text-align: right;\">\n",
       "      <th></th>\n",
       "      <th>sct</th>\n",
       "      <th>year</th>\n",
       "      <th>capitaux_propres</th>\n",
       "      <th>passifs_non_courant</th>\n",
       "      <th>total_bilan</th>\n",
       "      <th>stock</th>\n",
       "      <th>creance_client</th>\n",
       "      <th>actif_immobilier</th>\n",
       "      <th>resultat_net</th>\n",
       "      <th>chiffre_d_affaires</th>\n",
       "    </tr>\n",
       "  </thead>\n",
       "  <tbody>\n",
       "    <tr>\n",
       "      <th>0</th>\n",
       "      <td>AB SCIENCE</td>\n",
       "      <td>12.17</td>\n",
       "      <td>3.554151e+04</td>\n",
       "      <td>6.747756e+04</td>\n",
       "      <td>1.675268e+05</td>\n",
       "      <td>526.418313</td>\n",
       "      <td>1.486552e+03</td>\n",
       "      <td>6.323641e+03</td>\n",
       "      <td>-8.979571e+04</td>\n",
       "      <td>5.757493e+03</td>\n",
       "    </tr>\n",
       "    <tr>\n",
       "      <th>1</th>\n",
       "      <td>AB SCIENCE</td>\n",
       "      <td>12.18</td>\n",
       "      <td>-4.953629e+04</td>\n",
       "      <td>5.805500e+04</td>\n",
       "      <td>7.446336e+04</td>\n",
       "      <td>506.553471</td>\n",
       "      <td>7.813505e+02</td>\n",
       "      <td>5.711142e+03</td>\n",
       "      <td>-8.628294e+04</td>\n",
       "      <td>5.631683e+03</td>\n",
       "    </tr>\n",
       "    <tr>\n",
       "      <th>2</th>\n",
       "      <td>AB SCIENCE</td>\n",
       "      <td>12.19</td>\n",
       "      <td>-8.882564e+04</td>\n",
       "      <td>8.020761e+04</td>\n",
       "      <td>5.873372e+04</td>\n",
       "      <td>761.485610</td>\n",
       "      <td>6.522290e+02</td>\n",
       "      <td>5.330399e+03</td>\n",
       "      <td>-7.200012e+04</td>\n",
       "      <td>5.201278e+03</td>\n",
       "    </tr>\n",
       "    <tr>\n",
       "      <th>3</th>\n",
       "      <td>ACCOR</td>\n",
       "      <td>12.17</td>\n",
       "      <td>1.928876e+07</td>\n",
       "      <td>9.164314e+06</td>\n",
       "      <td>3.998131e+07</td>\n",
       "      <td>26486.456000</td>\n",
       "      <td>1.334255e+06</td>\n",
       "      <td>9.813232e+06</td>\n",
       "      <td>1.592498e+06</td>\n",
       "      <td>6.413033e+06</td>\n",
       "    </tr>\n",
       "    <tr>\n",
       "      <th>4</th>\n",
       "      <td>ACCOR</td>\n",
       "      <td>12.18</td>\n",
       "      <td>2.133153e+07</td>\n",
       "      <td>9.137827e+06</td>\n",
       "      <td>4.295772e+07</td>\n",
       "      <td>49662.105000</td>\n",
       "      <td>2.042768e+06</td>\n",
       "      <td>1.402458e+07</td>\n",
       "      <td>7.561883e+06</td>\n",
       "      <td>1.086607e+07</td>\n",
       "    </tr>\n",
       "  </tbody>\n",
       "</table>\n",
       "</div>"
      ],
      "text/plain": [
       "          sct   year  capitaux_propres  passifs_non_courant   total_bilan  \\\n",
       "0  AB SCIENCE  12.17      3.554151e+04         6.747756e+04  1.675268e+05   \n",
       "1  AB SCIENCE  12.18     -4.953629e+04         5.805500e+04  7.446336e+04   \n",
       "2  AB SCIENCE  12.19     -8.882564e+04         8.020761e+04  5.873372e+04   \n",
       "3       ACCOR  12.17      1.928876e+07         9.164314e+06  3.998131e+07   \n",
       "4       ACCOR  12.18      2.133153e+07         9.137827e+06  4.295772e+07   \n",
       "\n",
       "          stock  creance_client  actif_immobilier  resultat_net  \\\n",
       "0    526.418313    1.486552e+03      6.323641e+03 -8.979571e+04   \n",
       "1    506.553471    7.813505e+02      5.711142e+03 -8.628294e+04   \n",
       "2    761.485610    6.522290e+02      5.330399e+03 -7.200012e+04   \n",
       "3  26486.456000    1.334255e+06      9.813232e+06  1.592498e+06   \n",
       "4  49662.105000    2.042768e+06      1.402458e+07  7.561883e+06   \n",
       "\n",
       "   chiffre_d_affaires  \n",
       "0        5.757493e+03  \n",
       "1        5.631683e+03  \n",
       "2        5.201278e+03  \n",
       "3        6.413033e+06  \n",
       "4        1.086607e+07  "
      ]
     },
     "execution_count": 17,
     "metadata": {},
     "output_type": "execute_result"
    }
   ],
   "source": [
    "df_final.head()"
   ]
  },
  {
   "cell_type": "code",
   "execution_count": 18,
   "id": "81aec2ca",
   "metadata": {},
   "outputs": [
    {
     "data": {
      "text/plain": [
       "(804, 10)"
      ]
     },
     "execution_count": 18,
     "metadata": {},
     "output_type": "execute_result"
    }
   ],
   "source": [
    "df_final.shape"
   ]
  },
  {
   "cell_type": "code",
   "execution_count": 19,
   "id": "9abc6615",
   "metadata": {},
   "outputs": [],
   "source": [
    "X = df_final.copy()\n",
    "X['ratio_de_solvabilite'] = X['passifs_non_courant'] / X['capitaux_propres']\n",
    "X['ratio_de_rentabilite'] = X['resultat_net'] / X['capitaux_propres']\n",
    "X['ratio_d_endettement'] = (X['total_bilan'] - X['capitaux_propres']) / X['total_bilan']\n",
    "X['marge_nette_sur_vente'] = (X['resultat_net'] / X['chiffre_d_affaires']) * 100\n",
    "X['score'] = 0"
   ]
  },
  {
   "cell_type": "code",
   "execution_count": 20,
   "id": "22e472aa",
   "metadata": {},
   "outputs": [],
   "source": [
    "score_list = []\n",
    "for i in range(len(X['ratio_d_endettement'])):\n",
    "    scr = 0\n",
    "    if X['ratio_d_endettement'].iloc[i] < 1:\n",
    "        scr = scr + 2.5\n",
    "    if X['ratio_de_rentabilite'].iloc[i] >= 10 and X['ratio_de_rentabilite'].iloc[i] <= 20:\n",
    "        scr = scr + 2\n",
    "    if X['marge_nette_sur_vente'].iloc[i] >= 5 and X['marge_nette_sur_vente'].iloc[i] <= 10:\n",
    "        scr = scr + 1.5\n",
    "    if X['ratio_de_solvabilite'].iloc[i] < 1:\n",
    "        scr = scr + 1\n",
    "    score_list.append(scr)\n",
    "final_score_list = []\n",
    "for item in score_list:\n",
    "    if item >= sum(score_list)/len(score_list):\n",
    "        final_score_list.append(1)\n",
    "    else:\n",
    "        final_score_list.append(0)\n",
    "X['score'] = final_score_list"
   ]
  },
  {
   "cell_type": "code",
   "execution_count": 21,
   "id": "fff2f33a",
   "metadata": {},
   "outputs": [],
   "source": [
    "approve = 0\n",
    "reject = 0\n",
    "for i in final_score_list:\n",
    "    if i == 0:\n",
    "        reject += 1\n",
    "    else:\n",
    "        approve += 1"
   ]
  },
  {
   "cell_type": "code",
   "execution_count": 22,
   "id": "67a52581",
   "metadata": {},
   "outputs": [],
   "source": [
    "y = X['score']\n",
    "X.drop(axis=1, columns='score', inplace=True)"
   ]
  },
  {
   "cell_type": "code",
   "execution_count": 23,
   "id": "d9e142e0",
   "metadata": {},
   "outputs": [
    {
     "name": "stdout",
     "output_type": "stream",
     "text": [
      "approved : 602, rejected : 202\n"
     ]
    }
   ],
   "source": [
    "print('approved : {}, rejected : {}'.format(approve, reject))"
   ]
  },
  {
   "cell_type": "markdown",
   "id": "8f8dd8f5",
   "metadata": {},
   "source": [
    "scaling data"
   ]
  },
  {
   "cell_type": "code",
   "execution_count": 24,
   "id": "6086b782",
   "metadata": {},
   "outputs": [],
   "source": [
    "x_cols = ['ratio_de_solvabilite',\n",
    " 'ratio_de_rentabilite',\n",
    " 'ratio_d_endettement',\n",
    " 'marge_nette_sur_vente']"
   ]
  },
  {
   "cell_type": "code",
   "execution_count": 25,
   "id": "c637dac9",
   "metadata": {},
   "outputs": [],
   "source": [
    "df_tn.to_csv('financial_data_tunisia.csv')"
   ]
  },
  {
   "cell_type": "code",
   "execution_count": 26,
   "id": "5d014fd3",
   "metadata": {},
   "outputs": [],
   "source": [
    "def get_score(model, X_train, X_test, y_train, y_test):\n",
    "    model.fit(X_train,y_train)\n",
    "    return model.score(X_test,y_test)"
   ]
  },
  {
   "cell_type": "code",
   "execution_count": 27,
   "id": "7d051011",
   "metadata": {},
   "outputs": [],
   "source": [
    "pipeline_s_lr = Pipeline([\n",
    "    ('standard',StandardScaler()),\n",
    "    ('lr_classifier',LogisticRegression())])\n",
    "\n",
    "pipeline_s_svm = Pipeline([\n",
    "    ('standard',StandardScaler()),\n",
    "    ('svc',SVC())])\n",
    "\n",
    "pipeline_s_xgb = Pipeline([\n",
    "    ('standard',StandardScaler()),\n",
    "    ('xgb',XGBClassifier())\n",
    "    ])\n",
    "\n",
    "pipeline_mm_lr = Pipeline([\n",
    "    ('minmax',MinMaxScaler()),\n",
    "    ('lr_classifier',LogisticRegression())])\n",
    "\n",
    "pipeline_mm_svm = Pipeline([\n",
    "    ('minmax',MinMaxScaler()),\n",
    "    ('svc',SVC())])\n",
    "\n",
    "pipeline_mm_xgb = Pipeline([\n",
    "    ('minmax',MinMaxScaler()),\n",
    "    ('xgb',XGBClassifier())\n",
    "    ])"
   ]
  },
  {
   "cell_type": "code",
   "execution_count": 28,
   "id": "b3e6f86c",
   "metadata": {},
   "outputs": [
    {
     "name": "stdout",
     "output_type": "stream",
     "text": [
      "[15:21:09] WARNING: C:/Users/Administrator/workspace/xgboost-win64_release_1.4.0/src/learner.cc:1095: Starting in XGBoost 1.3.0, the default evaluation metric used with the objective 'binary:logistic' was changed from 'error' to 'logloss'. Explicitly set eval_metric if you'd like to restore the old behavior.\n",
      "[15:21:09] WARNING: C:/Users/Administrator/workspace/xgboost-win64_release_1.4.0/src/learner.cc:1095: Starting in XGBoost 1.3.0, the default evaluation metric used with the objective 'binary:logistic' was changed from 'error' to 'logloss'. Explicitly set eval_metric if you'd like to restore the old behavior.\n",
      "[15:21:09] WARNING: C:/Users/Administrator/workspace/xgboost-win64_release_1.4.0/src/learner.cc:1095: Starting in XGBoost 1.3.0, the default evaluation metric used with the objective 'binary:logistic' was changed from 'error' to 'logloss'. Explicitly set eval_metric if you'd like to restore the old behavior.\n",
      "[15:21:09] WARNING: C:/Users/Administrator/workspace/xgboost-win64_release_1.4.0/src/learner.cc:1095: Starting in XGBoost 1.3.0, the default evaluation metric used with the objective 'binary:logistic' was changed from 'error' to 'logloss'. Explicitly set eval_metric if you'd like to restore the old behavior.\n",
      "[15:21:09] WARNING: C:/Users/Administrator/workspace/xgboost-win64_release_1.4.0/src/learner.cc:1095: Starting in XGBoost 1.3.0, the default evaluation metric used with the objective 'binary:logistic' was changed from 'error' to 'logloss'. Explicitly set eval_metric if you'd like to restore the old behavior.\n",
      "[15:21:10] WARNING: C:/Users/Administrator/workspace/xgboost-win64_release_1.4.0/src/learner.cc:1095: Starting in XGBoost 1.3.0, the default evaluation metric used with the objective 'binary:logistic' was changed from 'error' to 'logloss'. Explicitly set eval_metric if you'd like to restore the old behavior.\n",
      "[15:21:10] WARNING: C:/Users/Administrator/workspace/xgboost-win64_release_1.4.0/src/learner.cc:1095: Starting in XGBoost 1.3.0, the default evaluation metric used with the objective 'binary:logistic' was changed from 'error' to 'logloss'. Explicitly set eval_metric if you'd like to restore the old behavior.\n",
      "[15:21:10] WARNING: C:/Users/Administrator/workspace/xgboost-win64_release_1.4.0/src/learner.cc:1095: Starting in XGBoost 1.3.0, the default evaluation metric used with the objective 'binary:logistic' was changed from 'error' to 'logloss'. Explicitly set eval_metric if you'd like to restore the old behavior.\n",
      "[15:21:10] WARNING: C:/Users/Administrator/workspace/xgboost-win64_release_1.4.0/src/learner.cc:1095: Starting in XGBoost 1.3.0, the default evaluation metric used with the objective 'binary:logistic' was changed from 'error' to 'logloss'. Explicitly set eval_metric if you'd like to restore the old behavior.\n",
      "[15:21:10] WARNING: C:/Users/Administrator/workspace/xgboost-win64_release_1.4.0/src/learner.cc:1095: Starting in XGBoost 1.3.0, the default evaluation metric used with the objective 'binary:logistic' was changed from 'error' to 'logloss'. Explicitly set eval_metric if you'd like to restore the old behavior.\n",
      "[15:21:10] WARNING: C:/Users/Administrator/workspace/xgboost-win64_release_1.4.0/src/learner.cc:1095: Starting in XGBoost 1.3.0, the default evaluation metric used with the objective 'binary:logistic' was changed from 'error' to 'logloss'. Explicitly set eval_metric if you'd like to restore the old behavior.\n",
      "[15:21:11] WARNING: C:/Users/Administrator/workspace/xgboost-win64_release_1.4.0/src/learner.cc:1095: Starting in XGBoost 1.3.0, the default evaluation metric used with the objective 'binary:logistic' was changed from 'error' to 'logloss'. Explicitly set eval_metric if you'd like to restore the old behavior.\n",
      "[15:21:11] WARNING: C:/Users/Administrator/workspace/xgboost-win64_release_1.4.0/src/learner.cc:1095: Starting in XGBoost 1.3.0, the default evaluation metric used with the objective 'binary:logistic' was changed from 'error' to 'logloss'. Explicitly set eval_metric if you'd like to restore the old behavior.\n",
      "[15:21:11] WARNING: C:/Users/Administrator/workspace/xgboost-win64_release_1.4.0/src/learner.cc:1095: Starting in XGBoost 1.3.0, the default evaluation metric used with the objective 'binary:logistic' was changed from 'error' to 'logloss'. Explicitly set eval_metric if you'd like to restore the old behavior.\n",
      "[15:21:11] WARNING: C:/Users/Administrator/workspace/xgboost-win64_release_1.4.0/src/learner.cc:1095: Starting in XGBoost 1.3.0, the default evaluation metric used with the objective 'binary:logistic' was changed from 'error' to 'logloss'. Explicitly set eval_metric if you'd like to restore the old behavior.\n",
      "[15:21:11] WARNING: C:/Users/Administrator/workspace/xgboost-win64_release_1.4.0/src/learner.cc:1095: Starting in XGBoost 1.3.0, the default evaluation metric used with the objective 'binary:logistic' was changed from 'error' to 'logloss'. Explicitly set eval_metric if you'd like to restore the old behavior.\n",
      "[15:21:11] WARNING: C:/Users/Administrator/workspace/xgboost-win64_release_1.4.0/src/learner.cc:1095: Starting in XGBoost 1.3.0, the default evaluation metric used with the objective 'binary:logistic' was changed from 'error' to 'logloss'. Explicitly set eval_metric if you'd like to restore the old behavior.\n",
      "[15:21:12] WARNING: C:/Users/Administrator/workspace/xgboost-win64_release_1.4.0/src/learner.cc:1095: Starting in XGBoost 1.3.0, the default evaluation metric used with the objective 'binary:logistic' was changed from 'error' to 'logloss'. Explicitly set eval_metric if you'd like to restore the old behavior.\n",
      "[15:21:12] WARNING: C:/Users/Administrator/workspace/xgboost-win64_release_1.4.0/src/learner.cc:1095: Starting in XGBoost 1.3.0, the default evaluation metric used with the objective 'binary:logistic' was changed from 'error' to 'logloss'. Explicitly set eval_metric if you'd like to restore the old behavior.\n",
      "[15:21:12] WARNING: C:/Users/Administrator/workspace/xgboost-win64_release_1.4.0/src/learner.cc:1095: Starting in XGBoost 1.3.0, the default evaluation metric used with the objective 'binary:logistic' was changed from 'error' to 'logloss'. Explicitly set eval_metric if you'd like to restore the old behavior.\n"
     ]
    }
   ],
   "source": [
    "folds = StratifiedKFold(n_splits=10)\n",
    "scores_s_lr = []\n",
    "scores_s_svm = []\n",
    "scores_s_xgb = []\n",
    "scores_mm_lr = []\n",
    "scores_mm_svm = []\n",
    "scores_mm_xgb = []\n",
    "for train_index, test_index in folds.split(X[x_cols],y):\n",
    "    X_train, X_test, y_train, y_test = X[x_cols].to_numpy()[train_index], X[x_cols].to_numpy()[test_index], y.to_numpy()[train_index], y.to_numpy()[test_index]     \n",
    "    scores_s_lr.append(get_score(pipeline_s_lr, X_train, X_test, y_train, y_test))\n",
    "    scores_s_svm.append(get_score(pipeline_s_svm, X_train, X_test, y_train, y_test))\n",
    "    scores_s_xgb.append(get_score(pipeline_s_xgb, X_train, X_test, y_train, y_test))\n",
    "    scores_mm_lr.append(get_score(pipeline_mm_lr, X_train, X_test, y_train, y_test))\n",
    "    scores_mm_svm.append(get_score(pipeline_mm_svm, X_train, X_test, y_train, y_test))\n",
    "    scores_mm_xgb.append(get_score(pipeline_mm_xgb, X_train, X_test, y_train, y_test))"
   ]
  },
  {
   "cell_type": "code",
   "execution_count": 29,
   "id": "ea4cb3b1",
   "metadata": {},
   "outputs": [
    {
     "name": "stdout",
     "output_type": "stream",
     "text": [
      "Logistic regression standard scaler Score \t:  0.7674537037037037\n",
      "SVM Score standard scaler \t\t\t:  0.7686728395061728\n",
      "XGB Score standard scaler \t\t\t:  0.9987654320987656\n",
      "Logistic regression mm scaler Score \t:  0.7512345679012344\n",
      "SVM mm scaler Score \t\t\t:  0.7524537037037037\n",
      "XGB mm scaler Score \t\t\t:  0.9987654320987656\n"
     ]
    }
   ],
   "source": [
    "print('Logistic regression standard scaler Score \\t: ', sum(scores_s_lr)/len(scores_s_lr))\n",
    "print('SVM Score standard scaler \\t\\t\\t: ', sum(scores_s_svm)/len(scores_s_svm))\n",
    "print('XGB Score standard scaler \\t\\t\\t: ', sum(scores_s_xgb)/len(scores_s_xgb))\n",
    "print('Logistic regression mm scaler Score \\t: ', sum(scores_mm_lr)/len(scores_mm_lr))\n",
    "print('SVM mm scaler Score \\t\\t\\t: ', sum(scores_mm_svm)/len(scores_mm_svm))\n",
    "print('XGB mm scaler Score \\t\\t\\t: ', sum(scores_mm_xgb)/len(scores_mm_xgb))"
   ]
  },
  {
   "cell_type": "code",
   "execution_count": 30,
   "id": "50e2fb7f",
   "metadata": {},
   "outputs": [
    {
     "data": {
      "image/png": "[encoded data removed]",
      "text/plain": [
       "<Figure size 432x288 with 2 Axes>"
      ]
     },
     "metadata": {
      "needs_background": "light"
     },
     "output_type": "display_data"
    }
   ],
   "source": [
    "y_pred = pipeline_mm_lr.predict(X_test)\n",
    "cm = confusion_matrix(y_test, y_pred)\n",
    "ax = plt.subplot()\n",
    "sns.heatmap(cm, annot=True, ax = ax)\n",
    "ax.set_xlabel('Predicted')\n",
    "ax.set_ylabel('Actual')\n",
    "ax.set_title('Confusion matrix')\n",
    "ax.xaxis.set_ticklabels([\"No\",\"Yes\"])\n",
    "ax.yaxis.set_ticklabels([\"No\",\"Yes\"])\n",
    "plt.show()"
   ]
  },
  {
   "cell_type": "markdown",
   "id": "5664e20a",
   "metadata": {},
   "source": [
    "### Model Tuning"
   ]
  },
  {
   "cell_type": "code",
   "execution_count": 31,
   "id": "b8f701f1",
   "metadata": {},
   "outputs": [],
   "source": [
    "params_lr = {\n",
    "    'lr_classifier__penalty' : ['l1', 'l2', 'elasticnet', 'none'],\n",
    "    'lr_classifier__C' : np.linspace(0,10,100),\n",
    "    'lr_classifier__solver' : ['newton-cg', 'lbfgs', 'liblinear', 'sag', 'saga'],\n",
    "    'lr_classifier__max_iter' : [100,1000,2000,3000]\n",
    "}"
   ]
  },
  {
   "cell_type": "code",
   "execution_count": 32,
   "id": "a8e0fc11",
   "metadata": {},
   "outputs": [
    {
     "name": "stdout",
     "output_type": "stream",
     "text": [
      "Fitting 5 folds for each of 8000 candidates, totalling 40000 fits\n"
     ]
    }
   ],
   "source": [
    "clf = GridSearchCV(pipeline_mm_lr, param_grid = params_lr, cv = 5, verbose=True, n_jobs=-1)\n",
    "best_clf = clf.fit(X_train, y_train)"
   ]
  },
  {
   "cell_type": "code",
   "execution_count": 33,
   "id": "9fc5c2f4",
   "metadata": {},
   "outputs": [
    {
     "data": {
      "text/plain": [
       "0.925"
      ]
     },
     "execution_count": 33,
     "metadata": {},
     "output_type": "execute_result"
    }
   ],
   "source": [
    "best_clf.best_estimator_.score(X_test, y_test)"
   ]
  },
  {
   "cell_type": "code",
   "execution_count": 34,
   "id": "f8cadcde",
   "metadata": {},
   "outputs": [
    {
     "data": {
      "image/png": "[encoded data removed]",
      "text/plain": [
       "<Figure size 432x288 with 2 Axes>"
      ]
     },
     "metadata": {
      "needs_background": "light"
     },
     "output_type": "display_data"
    }
   ],
   "source": [
    "y_pred = best_clf.best_estimator_.predict(X_test)\n",
    "cm = confusion_matrix(y_test, y_pred)\n",
    "ax = plt.subplot()\n",
    "sns.heatmap(cm, annot=True, ax = ax)\n",
    "ax.set_xlabel('Predicted')\n",
    "ax.set_ylabel('Actual')\n",
    "ax.set_title('Confusion matrix')\n",
    "ax.xaxis.set_ticklabels([\"No\",\"Yes\"])\n",
    "ax.yaxis.set_ticklabels([\"No\",\"Yes\"])\n",
    "plt.show()"
   ]
  },
  {
   "cell_type": "code",
   "execution_count": 35,
   "id": "80deb9ff",
   "metadata": {},
   "outputs": [
    {
     "data": {
      "text/plain": [
       "['loan_model_lr.pkl']"
      ]
     },
     "execution_count": 35,
     "metadata": {},
     "output_type": "execute_result"
    }
   ],
   "source": [
    "filename = 'loan_model_lr.pkl'\n",
    "joblib.dump(best_clf.best_estimator_, filename)"
   ]
  },
  {
   "cell_type": "markdown",
   "id": "6227dfe7",
   "metadata": {},
   "source": [
    "### Deep learning model"
   ]
  },
  {
   "cell_type": "code",
   "execution_count": 43,
   "id": "6d4e2d82",
   "metadata": {},
   "outputs": [],
   "source": [
    "X_train, X_test, y_train, y_test = train_test_split(X[x_cols], y, test_size=0.2, random_state=1, shuffle=True)"
   ]
  },
  {
   "cell_type": "code",
   "execution_count": 44,
   "id": "a5f396da",
   "metadata": {},
   "outputs": [
    {
     "name": "stdout",
     "output_type": "stream",
     "text": [
      "Epoch 1/100\n",
      "33/33 - 1s - loss: 0.8350 - accuracy: 0.7107\n",
      "Epoch 2/100\n",
      "33/33 - 0s - loss: 0.6939 - accuracy: 0.7558\n",
      "Epoch 3/100\n",
      "33/33 - 0s - loss: 0.6747 - accuracy: 0.7574\n",
      "Epoch 4/100\n",
      "33/33 - 0s - loss: 0.6678 - accuracy: 0.7574\n",
      "Epoch 5/100\n",
      "33/33 - 0s - loss: 0.6613 - accuracy: 0.7574\n",
      "Epoch 6/100\n",
      "33/33 - 0s - loss: 0.6549 - accuracy: 0.7574\n",
      "Epoch 7/100\n",
      "33/33 - 0s - loss: 0.6491 - accuracy: 0.7574\n",
      "Epoch 8/100\n",
      "33/33 - 0s - loss: 0.6527 - accuracy: 0.7574\n",
      "Epoch 9/100\n",
      "33/33 - 0s - loss: 0.6390 - accuracy: 0.7574\n",
      "Epoch 10/100\n",
      "33/33 - 0s - loss: 0.6326 - accuracy: 0.7574\n",
      "Epoch 11/100\n",
      "33/33 - 0s - loss: 0.6397 - accuracy: 0.7574\n",
      "Epoch 12/100\n",
      "33/33 - 0s - loss: 0.6219 - accuracy: 0.7589\n",
      "Epoch 13/100\n",
      "33/33 - 0s - loss: 0.6170 - accuracy: 0.7589\n",
      "Epoch 14/100\n",
      "33/33 - 0s - loss: 0.6173 - accuracy: 0.7589\n",
      "Epoch 15/100\n",
      "33/33 - 0s - loss: 0.6112 - accuracy: 0.7558\n",
      "Epoch 16/100\n",
      "33/33 - 0s - loss: 0.6023 - accuracy: 0.7605\n",
      "Epoch 17/100\n",
      "33/33 - 0s - loss: 0.5855 - accuracy: 0.7605\n",
      "Epoch 18/100\n",
      "33/33 - 0s - loss: 0.5787 - accuracy: 0.7683\n",
      "Epoch 19/100\n",
      "33/33 - 0s - loss: 0.5085 - accuracy: 0.7683\n",
      "Epoch 20/100\n",
      "33/33 - 0s - loss: 0.5879 - accuracy: 0.7900\n",
      "Epoch 21/100\n",
      "33/33 - 0s - loss: 0.4721 - accuracy: 0.7900\n",
      "Epoch 22/100\n",
      "33/33 - 0s - loss: 0.4977 - accuracy: 0.7932\n",
      "Epoch 23/100\n",
      "33/33 - 0s - loss: 0.3303 - accuracy: 0.8709\n",
      "Epoch 24/100\n",
      "33/33 - 0s - loss: 0.3623 - accuracy: 0.9176\n",
      "Epoch 25/100\n",
      "33/33 - 0s - loss: 0.3090 - accuracy: 0.9005\n",
      "Epoch 26/100\n",
      "33/33 - 0s - loss: 0.2595 - accuracy: 0.9191\n",
      "Epoch 27/100\n",
      "33/33 - 0s - loss: 0.2278 - accuracy: 0.9207\n",
      "Epoch 28/100\n",
      "33/33 - 0s - loss: 0.1953 - accuracy: 0.9222\n",
      "Epoch 29/100\n",
      "33/33 - 0s - loss: 0.2600 - accuracy: 0.9222\n",
      "Epoch 30/100\n",
      "33/33 - 0s - loss: 0.2083 - accuracy: 0.9207\n",
      "Epoch 31/100\n",
      "33/33 - 0s - loss: 0.2010 - accuracy: 0.9331\n",
      "Epoch 32/100\n",
      "33/33 - 0s - loss: 0.1875 - accuracy: 0.9285\n",
      "Epoch 33/100\n",
      "33/33 - 0s - loss: 0.1635 - accuracy: 0.9331\n",
      "Epoch 34/100\n",
      "33/33 - 0s - loss: 0.2232 - accuracy: 0.9285\n",
      "Epoch 35/100\n",
      "33/33 - 0s - loss: 0.2827 - accuracy: 0.9005\n",
      "Epoch 36/100\n",
      "33/33 - 0s - loss: 0.2380 - accuracy: 0.9269\n",
      "Epoch 37/100\n",
      "33/33 - 0s - loss: 0.2164 - accuracy: 0.9347\n",
      "Epoch 38/100\n",
      "33/33 - 0s - loss: 0.2228 - accuracy: 0.9378\n",
      "Epoch 39/100\n",
      "33/33 - 0s - loss: 0.2705 - accuracy: 0.9238\n",
      "Epoch 40/100\n",
      "33/33 - 0s - loss: 0.2370 - accuracy: 0.9098\n",
      "Epoch 41/100\n",
      "33/33 - 0s - loss: 0.2254 - accuracy: 0.9253\n",
      "Epoch 42/100\n",
      "33/33 - 0s - loss: 0.2113 - accuracy: 0.9285\n",
      "Epoch 43/100\n",
      "33/33 - 0s - loss: 0.2032 - accuracy: 0.9285\n",
      "Epoch 44/100\n",
      "33/33 - 0s - loss: 0.1972 - accuracy: 0.9253\n",
      "Epoch 45/100\n",
      "33/33 - 0s - loss: 0.1791 - accuracy: 0.9347\n",
      "Epoch 46/100\n",
      "33/33 - 0s - loss: 0.1696 - accuracy: 0.9331\n",
      "Epoch 47/100\n",
      "33/33 - 0s - loss: 0.2740 - accuracy: 0.9051\n",
      "Epoch 48/100\n",
      "33/33 - 0s - loss: 0.1971 - accuracy: 0.9036\n",
      "Epoch 49/100\n",
      "33/33 - 0s - loss: 0.1762 - accuracy: 0.9160\n",
      "Epoch 50/100\n",
      "33/33 - 0s - loss: 0.2685 - accuracy: 0.8958\n",
      "Epoch 51/100\n",
      "33/33 - 0s - loss: 0.2326 - accuracy: 0.9145\n",
      "Epoch 52/100\n",
      "33/33 - 0s - loss: 0.2080 - accuracy: 0.9300\n",
      "Epoch 53/100\n",
      "33/33 - 0s - loss: 0.1995 - accuracy: 0.9207\n",
      "Epoch 54/100\n",
      "33/33 - 0s - loss: 0.1725 - accuracy: 0.9393\n",
      "Epoch 55/100\n",
      "33/33 - 0s - loss: 0.1688 - accuracy: 0.9285\n",
      "Epoch 56/100\n",
      "33/33 - 0s - loss: 0.1487 - accuracy: 0.9440\n",
      "Epoch 57/100\n",
      "33/33 - 0s - loss: 0.2453 - accuracy: 0.9362\n",
      "Epoch 58/100\n",
      "33/33 - 0s - loss: 0.1805 - accuracy: 0.9347\n",
      "Epoch 59/100\n",
      "33/33 - 0s - loss: 0.1759 - accuracy: 0.9316\n",
      "Epoch 60/100\n",
      "33/33 - 0s - loss: 0.1663 - accuracy: 0.9471\n",
      "Epoch 61/100\n",
      "33/33 - 0s - loss: 0.1574 - accuracy: 0.9456\n",
      "Epoch 62/100\n",
      "33/33 - 0s - loss: 0.1537 - accuracy: 0.9456\n",
      "Epoch 63/100\n",
      "33/33 - 0s - loss: 0.1495 - accuracy: 0.9471\n",
      "Epoch 64/100\n",
      "33/33 - 0s - loss: 0.1408 - accuracy: 0.9533\n",
      "Epoch 65/100\n",
      "33/33 - 0s - loss: 0.1741 - accuracy: 0.9471\n",
      "Epoch 66/100\n",
      "33/33 - 0s - loss: 0.1844 - accuracy: 0.9285\n",
      "Epoch 67/100\n",
      "33/33 - 0s - loss: 0.1837 - accuracy: 0.9316\n",
      "Epoch 68/100\n",
      "33/33 - 0s - loss: 0.1533 - accuracy: 0.9456\n",
      "Epoch 69/100\n",
      "33/33 - 0s - loss: 0.1579 - accuracy: 0.9409\n",
      "Epoch 70/100\n",
      "33/33 - 0s - loss: 0.1580 - accuracy: 0.9471\n",
      "Epoch 71/100\n",
      "33/33 - 0s - loss: 0.1464 - accuracy: 0.9347\n",
      "Epoch 72/100\n",
      "33/33 - 0s - loss: 0.1198 - accuracy: 0.9502\n",
      "Epoch 73/100\n",
      "33/33 - 0s - loss: 0.1131 - accuracy: 0.9518\n",
      "Epoch 74/100\n",
      "33/33 - 0s - loss: 0.1127 - accuracy: 0.9502\n",
      "Epoch 75/100\n",
      "33/33 - 0s - loss: 6.8645 - accuracy: 0.8678\n",
      "Epoch 76/100\n",
      "33/33 - 0s - loss: 0.5331 - accuracy: 0.8009\n",
      "Epoch 77/100\n",
      "33/33 - 0s - loss: 0.2988 - accuracy: 0.8056\n",
      "Epoch 78/100\n",
      "33/33 - 0s - loss: 0.2908 - accuracy: 0.8056\n",
      "Epoch 79/100\n",
      "33/33 - 0s - loss: 0.2762 - accuracy: 0.8056\n",
      "Epoch 80/100\n",
      "33/33 - 0s - loss: 0.2512 - accuracy: 0.8320\n",
      "Epoch 81/100\n",
      "33/33 - 0s - loss: 0.1750 - accuracy: 0.9238\n",
      "Epoch 82/100\n",
      "33/33 - 0s - loss: 0.1445 - accuracy: 0.9456\n",
      "Epoch 83/100\n",
      "33/33 - 0s - loss: 0.1361 - accuracy: 0.9471\n",
      "Epoch 84/100\n",
      "33/33 - 0s - loss: 0.1452 - accuracy: 0.9362\n",
      "Epoch 85/100\n",
      "33/33 - 0s - loss: 0.1339 - accuracy: 0.9440\n",
      "Epoch 86/100\n",
      "33/33 - 0s - loss: 0.1261 - accuracy: 0.9471\n",
      "Epoch 87/100\n",
      "33/33 - 0s - loss: 0.1204 - accuracy: 0.9487\n",
      "Epoch 88/100\n",
      "33/33 - 0s - loss: 0.1523 - accuracy: 0.9331\n",
      "Epoch 89/100\n",
      "33/33 - 0s - loss: 0.1615 - accuracy: 0.9378\n",
      "Epoch 90/100\n",
      "33/33 - 0s - loss: 0.1454 - accuracy: 0.9456\n",
      "Epoch 91/100\n",
      "33/33 - 0s - loss: 0.1373 - accuracy: 0.9456\n",
      "Epoch 92/100\n",
      "33/33 - 0s - loss: 0.1399 - accuracy: 0.9440\n",
      "Epoch 93/100\n",
      "33/33 - 0s - loss: 0.1315 - accuracy: 0.9502\n",
      "Epoch 94/100\n",
      "33/33 - 0s - loss: 0.1297 - accuracy: 0.9502\n",
      "Epoch 95/100\n",
      "33/33 - 0s - loss: 0.1286 - accuracy: 0.9487\n",
      "Epoch 96/100\n",
      "33/33 - 0s - loss: 0.1270 - accuracy: 0.9502\n",
      "Epoch 97/100\n",
      "33/33 - 0s - loss: 0.1248 - accuracy: 0.9502\n",
      "Epoch 98/100\n",
      "33/33 - 0s - loss: 0.1222 - accuracy: 0.9502\n",
      "Epoch 99/100\n",
      "33/33 - 0s - loss: 0.1277 - accuracy: 0.9425\n",
      "Epoch 100/100\n",
      "33/33 - 0s - loss: 0.1036 - accuracy: 0.9565\n",
      "21/21 [==============================] - 0s 2ms/step - loss: 0.1002 - accuracy: 0.9596\n"
     ]
    },
    {
     "data": {
      "text/plain": [
       "[0.10024173557758331, 0.9595645666122437]"
      ]
     },
     "execution_count": 44,
     "metadata": {},
     "output_type": "execute_result"
    }
   ],
   "source": [
    "classifier = Sequential()\n",
    "X_train, X_test = np.asarray(X_train).astype('float32'), np.asarray(X_test).astype('float32')\n",
    "classifier.add(Dense(400, activation='relu', kernel_initializer='random_normal', input_dim=X_test.shape[1]))\n",
    "classifier.add(Dense(800, activation='relu', kernel_initializer='random_normal'))\n",
    "classifier.add(Dense(10, activation='relu', kernel_initializer='random_normal'))\n",
    "classifier.add(Dense(1, activation='sigmoid', kernel_initializer='random_normal'))\n",
    "classifier.compile(optimizer='adam', loss='binary_crossentropy', metrics=['accuracy'])\n",
    "classifier.fit(X_train, y_train, batch_size=20, epochs=100, verbose=2)\n",
    "eval_mode = classifier.evaluate(X_train, y_train)\n",
    "eval_mode"
   ]
  },
  {
   "cell_type": "code",
   "execution_count": 45,
   "id": "f4a59094",
   "metadata": {},
   "outputs": [],
   "source": [
    "y_pred = classifier.predict(X_test)\n",
    "y_pred = (y_pred>=0.5)"
   ]
  },
  {
   "cell_type": "code",
   "execution_count": 46,
   "id": "8b924e54",
   "metadata": {},
   "outputs": [
    {
     "data": {
      "image/png": "[encoded data removed]",
      "text/plain": [
       "<Figure size 432x288 with 2 Axes>"
      ]
     },
     "metadata": {
      "needs_background": "light"
     },
     "output_type": "display_data"
    }
   ],
   "source": [
    "cm = confusion_matrix(y_test, y_pred)\n",
    "ax = plt.subplot()\n",
    "sns.heatmap(cm, annot=True, ax = ax)\n",
    "ax.set_xlabel('Predicted')\n",
    "ax.set_ylabel('Actual')\n",
    "ax.set_title('Confusion matrix')\n",
    "ax.xaxis.set_ticklabels([\"No\",\"Yes\"])\n",
    "ax.yaxis.set_ticklabels([\"No\",\"Yes\"])\n",
    "plt.show()"
   ]
  },
  {
   "cell_type": "code",
   "execution_count": 47,
   "id": "9a129fdc",
   "metadata": {},
   "outputs": [],
   "source": [
    "filename = 'loan_model_dl.pkl'\n",
    "classifier.save('loan_model_dl.h5')"
   ]
  }
 ],
 "metadata": {
  "kernelspec": {
   "display_name": "financini-venv",
   "language": "python",
   "name": "financini-venv"
  },
  "language_info": {
   "codemirror_mode": {
    "name": "ipython",
    "version": 3
   },
   "file_extension": ".py",
   "mimetype": "text/x-python",
   "name": "python",
   "nbconvert_exporter": "python",
   "pygments_lexer": "ipython3",
   "version": "3.9.1"
  }
 },
 "nbformat": 4,
 "nbformat_minor": 5
}
