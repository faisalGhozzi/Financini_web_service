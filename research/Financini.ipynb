{
 "cells": [
  {
   "cell_type": "code",
   "execution_count": 1,
   "id": "5be6a51b",
   "metadata": {},
   "outputs": [],
   "source": [
    "import pandas as pd\n",
    "import numpy as np\n",
    "from sklearn.model_selection import train_test_split, KFold, StratifiedKFold, cross_val_score\n",
    "from sklearn.metrics import accuracy_score, confusion_matrix, classification_report\n",
    "from sklearn.preprocessing import MinMaxScaler, StandardScaler\n",
    "from sklearn.linear_model import LogisticRegression\n",
    "from sklearn.svm import SVC\n",
    "from sklearn.ensemble import RandomForestClassifier\n",
    "from xgboost import XGBClassifier\n",
    "import xgboost\n",
    "from collections import Counter\n",
    "from sklearn.pipeline import Pipeline\n",
    "import seaborn as sns\n",
    "import matplotlib.pyplot as plt\n",
    "from keras import Sequential\n",
    "from keras.layers import Dense\n",
    "import warnings\n",
    "import tensorflow as tf\n",
    "import pickle\n",
    "import joblib\n",
    "warnings.filterwarnings('ignore')"
   ]
  },
  {
   "cell_type": "code",
   "execution_count": 2,
   "id": "eae5ae2c",
   "metadata": {},
   "outputs": [
    {
     "data": {
      "text/plain": [
       "(672, 10)"
      ]
     },
     "execution_count": 2,
     "metadata": {},
     "output_type": "execute_result"
    }
   ],
   "source": [
    "df = pd.read_csv('data/boursorama.csv', delimiter=';', index_col=False)\n",
    "df = df.drop_duplicates(subset=df.columns)\n",
    "df = df.replace({0.0 : np.nan})\n",
    "df.shape"
   ]
  },
  {
   "cell_type": "code",
   "execution_count": 3,
   "id": "fd0f1011",
   "metadata": {
    "scrolled": true
   },
   "outputs": [
    {
     "data": {
      "text/html": [
       "<div>\n",
       "<style scoped>\n",
       "    .dataframe tbody tr th:only-of-type {\n",
       "        vertical-align: middle;\n",
       "    }\n",
       "\n",
       "    .dataframe tbody tr th {\n",
       "        vertical-align: top;\n",
       "    }\n",
       "\n",
       "    .dataframe thead th {\n",
       "        text-align: right;\n",
       "    }\n",
       "</style>\n",
       "<table border=\"1\" class=\"dataframe\">\n",
       "  <thead>\n",
       "    <tr style=\"text-align: right;\">\n",
       "      <th></th>\n",
       "      <th>sct</th>\n",
       "      <th>year</th>\n",
       "      <th>capitaux_propres</th>\n",
       "      <th>passifs_non_courant</th>\n",
       "      <th>total_bilan</th>\n",
       "      <th>stock</th>\n",
       "      <th>creance_client</th>\n",
       "      <th>actif_immobilier</th>\n",
       "      <th>resultat_net</th>\n",
       "      <th>chiffre_d_affaires</th>\n",
       "    </tr>\n",
       "  </thead>\n",
       "  <tbody>\n",
       "    <tr>\n",
       "      <th>0</th>\n",
       "      <td>AB SCIENCE</td>\n",
       "      <td>12.17</td>\n",
       "      <td>10735.0</td>\n",
       "      <td>20381.0</td>\n",
       "      <td>50600.0</td>\n",
       "      <td>159.0</td>\n",
       "      <td>449.0</td>\n",
       "      <td>1910.0</td>\n",
       "      <td>-27122.0</td>\n",
       "      <td>1739.0</td>\n",
       "    </tr>\n",
       "    <tr>\n",
       "      <th>1</th>\n",
       "      <td>AB SCIENCE</td>\n",
       "      <td>12.18</td>\n",
       "      <td>-14962.0</td>\n",
       "      <td>17535.0</td>\n",
       "      <td>22491.0</td>\n",
       "      <td>153.0</td>\n",
       "      <td>236.0</td>\n",
       "      <td>1725.0</td>\n",
       "      <td>-26061.0</td>\n",
       "      <td>1701.0</td>\n",
       "    </tr>\n",
       "    <tr>\n",
       "      <th>2</th>\n",
       "      <td>AB SCIENCE</td>\n",
       "      <td>12.19</td>\n",
       "      <td>-26829.0</td>\n",
       "      <td>24226.0</td>\n",
       "      <td>17740.0</td>\n",
       "      <td>230.0</td>\n",
       "      <td>197.0</td>\n",
       "      <td>1610.0</td>\n",
       "      <td>-21747.0</td>\n",
       "      <td>1571.0</td>\n",
       "    </tr>\n",
       "    <tr>\n",
       "      <th>3</th>\n",
       "      <td>ABC ARBITRAGE</td>\n",
       "      <td>12.17</td>\n",
       "      <td>148867.0</td>\n",
       "      <td>NaN</td>\n",
       "      <td>153935.0</td>\n",
       "      <td>159.0</td>\n",
       "      <td>7217.0</td>\n",
       "      <td>1386.0</td>\n",
       "      <td>18309.0</td>\n",
       "      <td>NaN</td>\n",
       "    </tr>\n",
       "    <tr>\n",
       "      <th>4</th>\n",
       "      <td>ABC ARBITRAGE</td>\n",
       "      <td>12.18</td>\n",
       "      <td>146291.0</td>\n",
       "      <td>NaN</td>\n",
       "      <td>151983.0</td>\n",
       "      <td>153.0</td>\n",
       "      <td>8169.0</td>\n",
       "      <td>1161.0</td>\n",
       "      <td>19679.0</td>\n",
       "      <td>NaN</td>\n",
       "    </tr>\n",
       "  </tbody>\n",
       "</table>\n",
       "</div>"
      ],
      "text/plain": [
       "             sct   year  capitaux_propres  passifs_non_courant  total_bilan  \\\n",
       "0     AB SCIENCE  12.17           10735.0              20381.0      50600.0   \n",
       "1     AB SCIENCE  12.18          -14962.0              17535.0      22491.0   \n",
       "2     AB SCIENCE  12.19          -26829.0              24226.0      17740.0   \n",
       "3  ABC ARBITRAGE  12.17          148867.0                  NaN     153935.0   \n",
       "4  ABC ARBITRAGE  12.18          146291.0                  NaN     151983.0   \n",
       "\n",
       "   stock  creance_client  actif_immobilier  resultat_net  chiffre_d_affaires  \n",
       "0  159.0           449.0            1910.0      -27122.0              1739.0  \n",
       "1  153.0           236.0            1725.0      -26061.0              1701.0  \n",
       "2  230.0           197.0            1610.0      -21747.0              1571.0  \n",
       "3  159.0          7217.0            1386.0       18309.0                 NaN  \n",
       "4  153.0          8169.0            1161.0       19679.0                 NaN  "
      ]
     },
     "execution_count": 3,
     "metadata": {},
     "output_type": "execute_result"
    }
   ],
   "source": [
    "df.head()"
   ]
  },
  {
   "cell_type": "code",
   "execution_count": 4,
   "id": "31621dd5",
   "metadata": {},
   "outputs": [],
   "source": [
    "columns_with_nan = []\n",
    "for column in df.columns:\n",
    "    if df[column].isnull().values.any():\n",
    "        columns_with_nan.append(column)\n",
    "for column in columns_with_nan:\n",
    "    df[column] = df.groupby('sct')[column].transform(lambda x: x.fillna(x.mean()))"
   ]
  },
  {
   "cell_type": "code",
   "execution_count": 5,
   "id": "af19b597",
   "metadata": {},
   "outputs": [
    {
     "data": {
      "text/plain": [
       "87"
      ]
     },
     "execution_count": 5,
     "metadata": {},
     "output_type": "execute_result"
    }
   ],
   "source": [
    "df.isnull().sum().sum()"
   ]
  },
  {
   "cell_type": "code",
   "execution_count": 6,
   "id": "0f46ca10",
   "metadata": {},
   "outputs": [
    {
     "data": {
      "text/plain": [
       "(594, 10)"
      ]
     },
     "execution_count": 6,
     "metadata": {},
     "output_type": "execute_result"
    }
   ],
   "source": [
    "df.dropna(inplace=True)\n",
    "df.shape"
   ]
  },
  {
   "cell_type": "code",
   "execution_count": 7,
   "id": "9abc6615",
   "metadata": {},
   "outputs": [],
   "source": [
    "X = df.copy()\n",
    "X['ratio_de_solvabilite'] = X['passifs_non_courant'] / X['capitaux_propres']\n",
    "X['ratio_de_rentabilite'] = X['resultat_net'] / X['capitaux_propres']\n",
    "X['ratio_d_endettement'] = (X['total_bilan'] - X['capitaux_propres']) / X['total_bilan']\n",
    "X['marge_nette_sur_vente'] = (X['resultat_net'] / X['chiffre_d_affaires']) * 100\n",
    "X['score'] = 0"
   ]
  },
  {
   "cell_type": "code",
   "execution_count": 8,
   "id": "22e472aa",
   "metadata": {},
   "outputs": [],
   "source": [
    "score_list = []\n",
    "for i in range(len(X['ratio_d_endettement'])):\n",
    "    scr = 0\n",
    "    if X['ratio_d_endettement'].iloc[i] < 1:\n",
    "        scr = scr + 4\n",
    "    if X['ratio_de_rentabilite'].iloc[i] >= 10 and X['ratio_de_rentabilite'].iloc[i] <= 20:\n",
    "        scr = scr + 3\n",
    "    if X['marge_nette_sur_vente'].iloc[i] >= 5 and X['marge_nette_sur_vente'].iloc[i] <= 10:\n",
    "        scr = scr + 2\n",
    "    if X['ratio_de_solvabilite'].iloc[i] < 1:\n",
    "        scr = scr + 1\n",
    "    if scr > 5:\n",
    "        score_list.append(1)\n",
    "    else:\n",
    "        score_list.append(0)\n",
    "X['score'] = score_list"
   ]
  },
  {
   "cell_type": "code",
   "execution_count": 9,
   "id": "67a52581",
   "metadata": {},
   "outputs": [],
   "source": [
    "y = X['score']\n",
    "X.drop(axis=1, columns='score', inplace=True)"
   ]
  },
  {
   "cell_type": "markdown",
   "id": "8f8dd8f5",
   "metadata": {},
   "source": [
    "scaling data"
   ]
  },
  {
   "cell_type": "code",
   "execution_count": 10,
   "id": "6086b782",
   "metadata": {},
   "outputs": [],
   "source": [
    "x_cols = ['ratio_de_solvabilite',\n",
    " 'ratio_de_rentabilite',\n",
    " 'ratio_d_endettement',\n",
    " 'marge_nette_sur_vente']"
   ]
  },
  {
   "cell_type": "code",
   "execution_count": 11,
   "id": "5d014fd3",
   "metadata": {},
   "outputs": [],
   "source": [
    "def get_score(model, X_train, X_test, y_train, y_test):\n",
    "    model.fit(X_train,y_train)\n",
    "    return model.score(X_test,y_test)"
   ]
  },
  {
   "cell_type": "code",
   "execution_count": 12,
   "id": "7d051011",
   "metadata": {},
   "outputs": [],
   "source": [
    "pipeline_s_lr = Pipeline([\n",
    "    ('standard',StandardScaler()),\n",
    "    ('lr_classifier',LogisticRegression())])\n",
    "\n",
    "pipeline_s_svm = Pipeline([\n",
    "    ('standard',StandardScaler()),\n",
    "    ('svc',SVC())])\n",
    "\n",
    "pipeline_s_xgb = Pipeline([\n",
    "    ('standard',StandardScaler()),\n",
    "    ('xgb',XGBClassifier())\n",
    "    ])\n",
    "\n",
    "pipeline_mm_lr = Pipeline([\n",
    "    ('minmax',MinMaxScaler()),\n",
    "    ('lr_classifier',LogisticRegression())])\n",
    "\n",
    "pipeline_mm_svm = Pipeline([\n",
    "    ('minmax',MinMaxScaler()),\n",
    "    ('svc',SVC())])\n",
    "\n",
    "pipeline_mm_xgb = Pipeline([\n",
    "    ('minmax',MinMaxScaler()),\n",
    "    ('xgb',XGBClassifier())\n",
    "    ])"
   ]
  },
  {
   "cell_type": "code",
   "execution_count": 13,
   "id": "b3e6f86c",
   "metadata": {},
   "outputs": [
    {
     "name": "stdout",
     "output_type": "stream",
     "text": [
      "[22:26:11] WARNING: C:/Users/Administrator/workspace/xgboost-win64_release_1.4.0/src/learner.cc:1095: Starting in XGBoost 1.3.0, the default evaluation metric used with the objective 'binary:logistic' was changed from 'error' to 'logloss'. Explicitly set eval_metric if you'd like to restore the old behavior.\n",
      "[22:26:11] WARNING: C:/Users/Administrator/workspace/xgboost-win64_release_1.4.0/src/learner.cc:1095: Starting in XGBoost 1.3.0, the default evaluation metric used with the objective 'binary:logistic' was changed from 'error' to 'logloss'. Explicitly set eval_metric if you'd like to restore the old behavior.\n",
      "[22:26:11] WARNING: C:/Users/Administrator/workspace/xgboost-win64_release_1.4.0/src/learner.cc:1095: Starting in XGBoost 1.3.0, the default evaluation metric used with the objective 'binary:logistic' was changed from 'error' to 'logloss'. Explicitly set eval_metric if you'd like to restore the old behavior.\n",
      "[22:26:12] WARNING: C:/Users/Administrator/workspace/xgboost-win64_release_1.4.0/src/learner.cc:1095: Starting in XGBoost 1.3.0, the default evaluation metric used with the objective 'binary:logistic' was changed from 'error' to 'logloss'. Explicitly set eval_metric if you'd like to restore the old behavior.\n",
      "[22:26:12] WARNING: C:/Users/Administrator/workspace/xgboost-win64_release_1.4.0/src/learner.cc:1095: Starting in XGBoost 1.3.0, the default evaluation metric used with the objective 'binary:logistic' was changed from 'error' to 'logloss'. Explicitly set eval_metric if you'd like to restore the old behavior.\n",
      "[22:26:12] WARNING: C:/Users/Administrator/workspace/xgboost-win64_release_1.4.0/src/learner.cc:1095: Starting in XGBoost 1.3.0, the default evaluation metric used with the objective 'binary:logistic' was changed from 'error' to 'logloss'. Explicitly set eval_metric if you'd like to restore the old behavior.\n",
      "[22:26:12] WARNING: C:/Users/Administrator/workspace/xgboost-win64_release_1.4.0/src/learner.cc:1095: Starting in XGBoost 1.3.0, the default evaluation metric used with the objective 'binary:logistic' was changed from 'error' to 'logloss'. Explicitly set eval_metric if you'd like to restore the old behavior.\n",
      "[22:26:12] WARNING: C:/Users/Administrator/workspace/xgboost-win64_release_1.4.0/src/learner.cc:1095: Starting in XGBoost 1.3.0, the default evaluation metric used with the objective 'binary:logistic' was changed from 'error' to 'logloss'. Explicitly set eval_metric if you'd like to restore the old behavior.\n",
      "[22:26:12] WARNING: C:/Users/Administrator/workspace/xgboost-win64_release_1.4.0/src/learner.cc:1095: Starting in XGBoost 1.3.0, the default evaluation metric used with the objective 'binary:logistic' was changed from 'error' to 'logloss'. Explicitly set eval_metric if you'd like to restore the old behavior.\n",
      "[22:26:12] WARNING: C:/Users/Administrator/workspace/xgboost-win64_release_1.4.0/src/learner.cc:1095: Starting in XGBoost 1.3.0, the default evaluation metric used with the objective 'binary:logistic' was changed from 'error' to 'logloss'. Explicitly set eval_metric if you'd like to restore the old behavior.\n",
      "[22:26:12] WARNING: C:/Users/Administrator/workspace/xgboost-win64_release_1.4.0/src/learner.cc:1095: Starting in XGBoost 1.3.0, the default evaluation metric used with the objective 'binary:logistic' was changed from 'error' to 'logloss'. Explicitly set eval_metric if you'd like to restore the old behavior.\n",
      "[22:26:12] WARNING: C:/Users/Administrator/workspace/xgboost-win64_release_1.4.0/src/learner.cc:1095: Starting in XGBoost 1.3.0, the default evaluation metric used with the objective 'binary:logistic' was changed from 'error' to 'logloss'. Explicitly set eval_metric if you'd like to restore the old behavior.\n",
      "[22:26:13] WARNING: C:/Users/Administrator/workspace/xgboost-win64_release_1.4.0/src/learner.cc:1095: Starting in XGBoost 1.3.0, the default evaluation metric used with the objective 'binary:logistic' was changed from 'error' to 'logloss'. Explicitly set eval_metric if you'd like to restore the old behavior.\n",
      "[22:26:13] WARNING: C:/Users/Administrator/workspace/xgboost-win64_release_1.4.0/src/learner.cc:1095: Starting in XGBoost 1.3.0, the default evaluation metric used with the objective 'binary:logistic' was changed from 'error' to 'logloss'. Explicitly set eval_metric if you'd like to restore the old behavior.\n",
      "[22:26:13] WARNING: C:/Users/Administrator/workspace/xgboost-win64_release_1.4.0/src/learner.cc:1095: Starting in XGBoost 1.3.0, the default evaluation metric used with the objective 'binary:logistic' was changed from 'error' to 'logloss'. Explicitly set eval_metric if you'd like to restore the old behavior.\n",
      "[22:26:13] WARNING: C:/Users/Administrator/workspace/xgboost-win64_release_1.4.0/src/learner.cc:1095: Starting in XGBoost 1.3.0, the default evaluation metric used with the objective 'binary:logistic' was changed from 'error' to 'logloss'. Explicitly set eval_metric if you'd like to restore the old behavior.\n",
      "[22:26:13] WARNING: C:/Users/Administrator/workspace/xgboost-win64_release_1.4.0/src/learner.cc:1095: Starting in XGBoost 1.3.0, the default evaluation metric used with the objective 'binary:logistic' was changed from 'error' to 'logloss'. Explicitly set eval_metric if you'd like to restore the old behavior.\n",
      "[22:26:13] WARNING: C:/Users/Administrator/workspace/xgboost-win64_release_1.4.0/src/learner.cc:1095: Starting in XGBoost 1.3.0, the default evaluation metric used with the objective 'binary:logistic' was changed from 'error' to 'logloss'. Explicitly set eval_metric if you'd like to restore the old behavior.\n",
      "[22:26:13] WARNING: C:/Users/Administrator/workspace/xgboost-win64_release_1.4.0/src/learner.cc:1095: Starting in XGBoost 1.3.0, the default evaluation metric used with the objective 'binary:logistic' was changed from 'error' to 'logloss'. Explicitly set eval_metric if you'd like to restore the old behavior.\n",
      "[22:26:13] WARNING: C:/Users/Administrator/workspace/xgboost-win64_release_1.4.0/src/learner.cc:1095: Starting in XGBoost 1.3.0, the default evaluation metric used with the objective 'binary:logistic' was changed from 'error' to 'logloss'. Explicitly set eval_metric if you'd like to restore the old behavior.\n"
     ]
    }
   ],
   "source": [
    "folds = StratifiedKFold(n_splits=10)\n",
    "scores_s_lr = []\n",
    "scores_s_svm = []\n",
    "scores_s_xgb = []\n",
    "scores_mm_lr = []\n",
    "scores_mm_svm = []\n",
    "scores_mm_xgb = []\n",
    "for train_index, test_index in folds.split(X[x_cols],y):\n",
    "    X_train, X_test, y_train, y_test = X[x_cols].to_numpy()[train_index], X[x_cols].to_numpy()[test_index], y.to_numpy()[train_index], y.to_numpy()[test_index]     \n",
    "    scores_s_lr.append(get_score(pipeline_s_lr, X_train, X_test, y_train, y_test))\n",
    "    scores_s_svm.append(get_score(pipeline_s_svm, X_train, X_test, y_train, y_test))\n",
    "    scores_s_xgb.append(get_score(pipeline_s_xgb, X_train, X_test, y_train, y_test))\n",
    "    scores_mm_lr.append(get_score(pipeline_mm_lr, X_train, X_test, y_train, y_test))\n",
    "    scores_mm_svm.append(get_score(pipeline_mm_svm, X_train, X_test, y_train, y_test))\n",
    "    scores_mm_xgb.append(get_score(pipeline_mm_xgb, X_train, X_test, y_train, y_test))"
   ]
  },
  {
   "cell_type": "code",
   "execution_count": 14,
   "id": "ea4cb3b1",
   "metadata": {},
   "outputs": [
    {
     "name": "stdout",
     "output_type": "stream",
     "text": [
      "Logistic regression standard scaler Score \t:  0.7609322033898304\n",
      "SVM Score standard scaler \t\t\t:  0.7693785310734462\n",
      "XGB Score standard scaler \t\t\t:  0.9983050847457626\n",
      "Logistic regression mm scaler Score \t:  0.7642937853107343\n",
      "SVM mm scaler Score \t\t\t:  0.7693785310734462\n",
      "XGB mm scaler Score \t\t\t:  0.9983050847457626\n"
     ]
    }
   ],
   "source": [
    "print('Logistic regression standard scaler Score \\t: ', sum(scores_s_lr)/len(scores_s_lr))\n",
    "print('SVM Score standard scaler \\t\\t\\t: ', sum(scores_s_svm)/len(scores_s_svm))\n",
    "print('XGB Score standard scaler \\t\\t\\t: ', sum(scores_s_xgb)/len(scores_s_xgb))\n",
    "print('Logistic regression mm scaler Score \\t: ', sum(scores_mm_lr)/len(scores_mm_lr))\n",
    "print('SVM mm scaler Score \\t\\t\\t: ', sum(scores_mm_svm)/len(scores_mm_svm))\n",
    "print('XGB mm scaler Score \\t\\t\\t: ', sum(scores_mm_xgb)/len(scores_mm_xgb))"
   ]
  },
  {
   "cell_type": "code",
   "execution_count": 15,
   "id": "50e2fb7f",
   "metadata": {},
   "outputs": [
    {
     "data": {
      "image/png": "[encoded data removed]",
      "text/plain": [
       "<Figure size 432x288 with 2 Axes>"
      ]
     },
     "metadata": {
      "needs_background": "light"
     },
     "output_type": "display_data"
    }
   ],
   "source": [
    "y_pred = pipeline_mm_lr.predict(X_test)\n",
    "cm = confusion_matrix(y_test, y_pred)\n",
    "ax = plt.subplot()\n",
    "sns.heatmap(cm, annot=True, ax = ax)\n",
    "ax.set_xlabel('Predicted')\n",
    "ax.set_ylabel('Actual')\n",
    "ax.set_title('Confusion matrix')\n",
    "ax.xaxis.set_ticklabels([\"No\",\"Yes\"])\n",
    "ax.yaxis.set_ticklabels([\"No\",\"Yes\"])\n",
    "plt.show()"
   ]
  },
  {
   "cell_type": "code",
   "execution_count": 16,
   "id": "80deb9ff",
   "metadata": {},
   "outputs": [
    {
     "data": {
      "text/plain": [
       "['loan_model_lr.pkl']"
      ]
     },
     "execution_count": 16,
     "metadata": {},
     "output_type": "execute_result"
    }
   ],
   "source": [
    "filename = 'loan_model_lr.pkl'\n",
    "joblib.dump(pipeline_mm_lr, filename)"
   ]
  }
 ],
 "metadata": {
  "kernelspec": {
   "display_name": "financini-venv",
   "language": "python",
   "name": "financini-venv"
  },
  "language_info": {
   "codemirror_mode": {
    "name": "ipython",
    "version": 3
   },
   "file_extension": ".py",
   "mimetype": "text/x-python",
   "name": "python",
   "nbconvert_exporter": "python",
   "pygments_lexer": "ipython3",
   "version": "3.9.1"
  }
 },
 "nbformat": 4,
 "nbformat_minor": 5
}
